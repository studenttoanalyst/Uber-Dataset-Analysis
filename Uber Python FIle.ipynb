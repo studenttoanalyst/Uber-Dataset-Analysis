{
 "cells": [
  {
   "cell_type": "code",
   "execution_count": 5,
   "id": "daef1fc9-3626-405e-bf9f-c9c035c65146",
   "metadata": {},
   "outputs": [
    {
     "name": "stdout",
     "output_type": "stream",
     "text": [
      "Requirement already satisfied: pandas in c:\\users\\k\\anaconda3\\lib\\site-packages (2.2.2)\n",
      "Requirement already satisfied: openpyxl in c:\\users\\k\\anaconda3\\lib\\site-packages (3.1.5)\n",
      "Requirement already satisfied: numpy>=1.26.0 in c:\\users\\k\\anaconda3\\lib\\site-packages (from pandas) (1.26.4)\n",
      "Requirement already satisfied: python-dateutil>=2.8.2 in c:\\users\\k\\anaconda3\\lib\\site-packages (from pandas) (2.9.0.post0)\n",
      "Requirement already satisfied: pytz>=2020.1 in c:\\users\\k\\anaconda3\\lib\\site-packages (from pandas) (2024.1)\n",
      "Requirement already satisfied: tzdata>=2022.7 in c:\\users\\k\\anaconda3\\lib\\site-packages (from pandas) (2023.3)\n",
      "Requirement already satisfied: et-xmlfile in c:\\users\\k\\anaconda3\\lib\\site-packages (from openpyxl) (1.1.0)\n",
      "Requirement already satisfied: six>=1.5 in c:\\users\\k\\anaconda3\\lib\\site-packages (from python-dateutil>=2.8.2->pandas) (1.16.0)\n",
      "Note: you may need to restart the kernel to use updated packages.\n"
     ]
    }
   ],
   "source": [
    "pip install pandas openpyxl\n"
   ]
  },
  {
   "cell_type": "code",
   "execution_count": 232,
   "id": "c8083dc8-d0ea-4f39-aa15-7f29095c8583",
   "metadata": {},
   "outputs": [],
   "source": [
    "import numpy as np\n",
    "import pandas as pd"
   ]
  },
  {
   "cell_type": "code",
   "execution_count": 180,
   "id": "79ea0eb7-ca45-46a7-8b00-4366d88c3a7c",
   "metadata": {},
   "outputs": [],
   "source": [
    "df = pd.read_excel(\"uber updated (Recovered).xlsx\")"
   ]
  },
  {
   "cell_type": "code",
   "execution_count": 181,
   "id": "c3e4d6da-1f9e-4f67-804f-013ae4277647",
   "metadata": {},
   "outputs": [
    {
     "data": {
      "text/plain": [
       "(150000, 21)"
      ]
     },
     "execution_count": 181,
     "metadata": {},
     "output_type": "execute_result"
    }
   ],
   "source": [
    "df.shape"
   ]
  },
  {
   "cell_type": "code",
   "execution_count": 246,
   "id": "c7c224e6-24ed-4674-985f-e757985758d6",
   "metadata": {},
   "outputs": [
    {
     "name": "stdout",
     "output_type": "stream",
     "text": [
      "<class 'pandas.core.frame.DataFrame'>\n",
      "RangeIndex: 150000 entries, 0 to 149999\n",
      "Data columns (total 21 columns):\n",
      " #   Column                             Non-Null Count   Dtype   \n",
      "---  ------                             --------------   -----   \n",
      " 0   Date                               150000 non-null  object  \n",
      " 1   Time                               150000 non-null  object  \n",
      " 2   Booking_ID                         150000 non-null  object  \n",
      " 3   Booking_Status                     150000 non-null  object  \n",
      " 4   Customer_ID                        150000 non-null  object  \n",
      " 5   Vehicle_Type                       150000 non-null  object  \n",
      " 6   Pickup_Location                    150000 non-null  object  \n",
      " 7   Drop_Location                      150000 non-null  object  \n",
      " 8   Avg_VTAT                           150000 non-null  object  \n",
      " 9   Avg_CTAT                           102000 non-null  float64 \n",
      " 10  Cancelled_Rides_by_Customer        150000 non-null  object  \n",
      " 11  Reason_for_cancelling_by_Customer  150000 non-null  category\n",
      " 12  Cancelled_Rides_by_Driver          150000 non-null  object  \n",
      " 13  Driver_Cancellation_Reason         150000 non-null  object  \n",
      " 14  Incomplete_Rides                   150000 non-null  object  \n",
      " 15  Incomplete_Rides_Reason            150000 non-null  object  \n",
      " 16  Booking_Value                      150000 non-null  object  \n",
      " 17  Ride_Distance                      150000 non-null  object  \n",
      " 18  Driver_Ratings                     150000 non-null  object  \n",
      " 19  Customer_Rating                    150000 non-null  object  \n",
      " 20  Payment_Method                     150000 non-null  object  \n",
      "dtypes: category(1), float64(1), object(19)\n",
      "memory usage: 23.0+ MB\n",
      "None\n"
     ]
    }
   ],
   "source": [
    "print(df.info())"
   ]
  },
  {
   "cell_type": "code",
   "execution_count": 190,
   "id": "924cd40d-fd82-490c-827b-3d063a81b97e",
   "metadata": {},
   "outputs": [
    {
     "name": "stdout",
     "output_type": "stream",
     "text": [
      "Payment_Method\n",
      "Unknown        47999\n",
      "UPI            45910\n",
      "Cash           25367\n",
      "Uber Wallet    12276\n",
      "Credit Card    10209\n",
      "Debit Card      8239\n",
      "Name: count, dtype: int64\n"
     ]
    }
   ],
   "source": [
    "counts = df['Payment_Method'].value_counts()\n",
    "print(counts)\n"
   ]
  },
  {
   "cell_type": "code",
   "execution_count": 192,
   "id": "158f563f-a7b0-4eda-9c9f-aac411c93d23",
   "metadata": {},
   "outputs": [],
   "source": [
    "df['Payment_Method'] = df['Payment_Method'].replace('No', 'Unknown')\n"
   ]
  },
  {
   "cell_type": "code",
   "execution_count": 194,
   "id": "9b36d0dc-548b-4305-bb66-c4d0bf6312d6",
   "metadata": {},
   "outputs": [
    {
     "name": "stdout",
     "output_type": "stream",
     "text": [
      "Incomplete_Rides_Reason\n",
      "No                   141000\n",
      "Customer Demand        3040\n",
      "Vehicle Breakdown      3012\n",
      "Other Issue            2948\n",
      "Name: count, dtype: int64\n"
     ]
    }
   ],
   "source": [
    "counts = df['Incomplete_Rides_Reason'].value_counts()\n",
    "print(counts)\n"
   ]
  },
  {
   "cell_type": "code",
   "execution_count": 196,
   "id": "3b9f778a-cd59-46d2-a4f3-386d49b75ce8",
   "metadata": {},
   "outputs": [],
   "source": [
    "df['Incomplete_Rides_Reason'] = df['Incomplete_Rides_Reason'].replace('No', 'No Reason')"
   ]
  },
  {
   "cell_type": "code",
   "execution_count": 198,
   "id": "c2cb132d-9054-4c25-a967-9484440b9df4",
   "metadata": {},
   "outputs": [
    {
     "name": "stdout",
     "output_type": "stream",
     "text": [
      "Incomplete_Rides_Reason\n",
      "No Reason            141000\n",
      "Customer Demand        3040\n",
      "Vehicle Breakdown      3012\n",
      "Other Issue            2948\n",
      "Name: count, dtype: int64\n"
     ]
    }
   ],
   "source": [
    "counts = df['Incomplete_Rides_Reason'].value_counts()\n",
    "print(counts)\n"
   ]
  },
  {
   "cell_type": "code",
   "execution_count": 200,
   "id": "8d051d07-b5da-41f1-b56a-9b60c57ee8b0",
   "metadata": {},
   "outputs": [
    {
     "name": "stdout",
     "output_type": "stream",
     "text": [
      "Incomplete_Rides\n",
      "No    141000\n",
      "1       9000\n",
      "Name: count, dtype: int64\n"
     ]
    }
   ],
   "source": [
    "counts = df['Incomplete_Rides'].value_counts()\n",
    "print(counts)"
   ]
  },
  {
   "cell_type": "code",
   "execution_count": 202,
   "id": "3c17a59a-4732-4d29-b66e-7dceb0eda3b3",
   "metadata": {},
   "outputs": [],
   "source": [
    "df['Incomplete_Rides'] = df['Incomplete_Rides'].replace('No', 'False')\n",
    "df['Incomplete_Rides'] = df['Incomplete_Rides'].replace(1, 'True')\n"
   ]
  },
  {
   "cell_type": "code",
   "execution_count": 204,
   "id": "5d7863c9-69cd-406f-b0a2-26f4df6d2eac",
   "metadata": {},
   "outputs": [
    {
     "name": "stdout",
     "output_type": "stream",
     "text": [
      "Incomplete_Rides\n",
      "False    141000\n",
      "True       9000\n",
      "Name: count, dtype: int64\n"
     ]
    }
   ],
   "source": [
    "counts = df['Incomplete_Rides'].value_counts()\n",
    "print(counts)"
   ]
  },
  {
   "cell_type": "code",
   "execution_count": 206,
   "id": "4292805c-4c26-4026-9063-3983968b0dbe",
   "metadata": {},
   "outputs": [
    {
     "data": {
      "text/plain": [
       "Driver_Cancellation_Reason\n",
       "No                                     123000\n",
       "Customer related issue                   6837\n",
       "The customer was coughing/sick           6751\n",
       "Personal & Car related issues            6726\n",
       "More than permitted people in there      6686\n",
       "Name: count, dtype: int64"
      ]
     },
     "execution_count": 206,
     "metadata": {},
     "output_type": "execute_result"
    }
   ],
   "source": [
    "df['Driver_Cancellation_Reason'].value_counts()\n"
   ]
  },
  {
   "cell_type": "code",
   "execution_count": 208,
   "id": "d5eacd86-cbce-4d03-9fcd-ea0e4549093d",
   "metadata": {},
   "outputs": [],
   "source": [
    "df['Driver_Cancellation_Reason'] = df['Driver_Cancellation_Reason'].replace('No','No Reason')"
   ]
  },
  {
   "cell_type": "code",
   "execution_count": 210,
   "id": "b5ee3162-4d60-4afd-b8fe-f2d9b8a5b3d4",
   "metadata": {},
   "outputs": [
    {
     "data": {
      "text/plain": [
       "Driver_Cancellation_Reason\n",
       "No Reason                              123000\n",
       "Customer related issue                   6837\n",
       "The customer was coughing/sick           6751\n",
       "Personal & Car related issues            6726\n",
       "More than permitted people in there      6686\n",
       "Name: count, dtype: int64"
      ]
     },
     "execution_count": 210,
     "metadata": {},
     "output_type": "execute_result"
    }
   ],
   "source": [
    "df['Driver_Cancellation_Reason'].value_counts()\n"
   ]
  },
  {
   "cell_type": "code",
   "execution_count": 220,
   "id": "66a0ea3e-323a-4ed9-8c50-7360d0159595",
   "metadata": {},
   "outputs": [
    {
     "name": "stdout",
     "output_type": "stream",
     "text": [
      "Cancelled_Rides_by_Driver\n",
      "False    123000\n",
      "True      27000\n",
      "Name: count, dtype: int64\n"
     ]
    }
   ],
   "source": [
    "counts= df['Cancelled_Rides_by_Driver'].value_counts()\n",
    "print(counts)"
   ]
  },
  {
   "cell_type": "code",
   "execution_count": 218,
   "id": "00462062-d9a3-4c89-a9d7-d9c20ebd7914",
   "metadata": {},
   "outputs": [],
   "source": [
    "df['Cancelled_Rides_by_Driver'] = df['Cancelled_Rides_by_Driver'].replace('No', 'False')\n",
    "df['Cancelled_Rides_by_Driver'] = df['Cancelled_Rides_by_Driver'].replace(1, 'True')\n"
   ]
  },
  {
   "cell_type": "code",
   "execution_count": 222,
   "id": "3dd86ea6-4b4c-436b-a334-726c47df018f",
   "metadata": {},
   "outputs": [
    {
     "name": "stdout",
     "output_type": "stream",
     "text": [
      "Reason_for_cancelling_by_Customer\n",
      "No                                              139500\n",
      "Wrong Address                                     2362\n",
      "Change of plans                                   2353\n",
      "Driver is not moving towards pickup location      2335\n",
      "Driver asked to cancel                            2295\n",
      "AC is not working                                 1155\n",
      "Name: count, dtype: int64\n"
     ]
    }
   ],
   "source": [
    "counts = df['Reason_for_cancelling_by_Customer'].value_counts()\n",
    "print(counts)"
   ]
  },
  {
   "cell_type": "code",
   "execution_count": 224,
   "id": "3d176653-8669-417e-81e2-9f1fd4993286",
   "metadata": {},
   "outputs": [],
   "source": [
    "df['Reason_for_cancelling_by_Customer'] = df['Reason_for_cancelling_by_Customer'].replace('No','Others')"
   ]
  },
  {
   "cell_type": "code",
   "execution_count": 238,
   "id": "c6b5a4b0-1bfd-42f0-a231-d4de52b0d4e3",
   "metadata": {},
   "outputs": [],
   "source": [
    "df['Reason_for_cancelling_by_Customer'] = df['Reason_for_cancelling_by_Customer'].astype('category')\n"
   ]
  },
  {
   "cell_type": "code",
   "execution_count": 244,
   "id": "d794acb7-b901-4244-a979-af2957d8bb12",
   "metadata": {},
   "outputs": [
    {
     "name": "stdout",
     "output_type": "stream",
     "text": [
      "Reason_for_cancelling_by_Customer\n",
      "Others                                          139500\n",
      "Wrong Address                                     2362\n",
      "Change of plans                                   2353\n",
      "Driver is not moving towards pickup location      2335\n",
      "Driver asked to cancel                            2295\n",
      "AC is not working                                 1155\n",
      "Name: count, dtype: int64\n"
     ]
    }
   ],
   "source": [
    "counts = df['Reason_for_cancelling_by_Customer'].value_counts()\n",
    "print(counts)"
   ]
  },
  {
   "cell_type": "code",
   "execution_count": 236,
   "id": "be47758d-5f6a-486a-9374-239a075693df",
   "metadata": {},
   "outputs": [
    {
     "name": "stdout",
     "output_type": "stream",
     "text": [
      "Avg_CTAT\n",
      "24.8    401\n",
      "25.9    389\n",
      "28.1    388\n",
      "20.5    386\n",
      "25.3    383\n",
      "       ... \n",
      "11.1     34\n",
      "11.6     34\n",
      "14.5     32\n",
      "13.8     27\n",
      "10.0     23\n",
      "Name: count, Length: 351, dtype: int64\n"
     ]
    }
   ],
   "source": [
    "counts = df['Avg_CTAT'].value_counts()\n",
    "print(counts)"
   ]
  },
  {
   "cell_type": "code",
   "execution_count": 234,
   "id": "2a0d5c66-b643-4f06-8dc3-f4c29b61744d",
   "metadata": {},
   "outputs": [
    {
     "name": "stderr",
     "output_type": "stream",
     "text": [
      "C:\\Users\\k\\AppData\\Local\\Temp\\ipykernel_4672\\1398792346.py:1: FutureWarning: Downcasting behavior in `replace` is deprecated and will be removed in a future version. To retain the old behavior, explicitly call `result.infer_objects(copy=False)`. To opt-in to the future behavior, set `pd.set_option('future.no_silent_downcasting', True)`\n",
      "  df['Avg_CTAT'] = df['Avg_CTAT'].replace(\"No\", np.nan).astype(float)\n"
     ]
    }
   ],
   "source": [
    "df['Avg_CTAT'] = df['Avg_CTAT'].replace(\"No\", np.nan).astype(float)"
   ]
  },
  {
   "cell_type": "code",
   "execution_count": 248,
   "id": "8920cd2d-3420-4128-b6cf-7d6e0f0ed81b",
   "metadata": {},
   "outputs": [
    {
     "name": "stdout",
     "output_type": "stream",
     "text": [
      "Avg_VTAT\n",
      "No      10500\n",
      "9.4      1259\n",
      "6        1249\n",
      "5.8      1248\n",
      "9.5      1246\n",
      "        ...  \n",
      "19.1       59\n",
      "19.5       57\n",
      "18.5       56\n",
      "18.9       55\n",
      "20         38\n",
      "Name: count, Length: 182, dtype: int64\n"
     ]
    }
   ],
   "source": [
    "counts = df['Avg_VTAT'].value_counts()\n",
    "print(counts)"
   ]
  },
  {
   "cell_type": "code",
   "execution_count": 250,
   "id": "8e6a763e-e982-4df2-b66a-ee3ca6219cda",
   "metadata": {},
   "outputs": [],
   "source": [
    "df['Avg_VTAT'] = df['Avg_CTAT'].replace(\"No\", np.nan).astype(float)"
   ]
  },
  {
   "cell_type": "code",
   "execution_count": 252,
   "id": "da66246a-c0aa-44b6-aeae-adafa5137d7b",
   "metadata": {},
   "outputs": [
    {
     "name": "stdout",
     "output_type": "stream",
     "text": [
      "Drop_Location\n",
      "Ashram              936\n",
      "Basai Dhankot       917\n",
      "Lok Kalyan Marg     916\n",
      "Narsinghpur         913\n",
      "Cyber Hub           912\n",
      "                   ... \n",
      "MG Road             799\n",
      "Bhiwadi             792\n",
      "Shivaji Park        786\n",
      "Anand Vihar ISBT    784\n",
      "Huda City Centre    774\n",
      "Name: count, Length: 176, dtype: int64\n"
     ]
    }
   ],
   "source": [
    "counts = df['Drop_Location'].value_counts()\n",
    "print(counts)"
   ]
  },
  {
   "cell_type": "code",
   "execution_count": 254,
   "id": "f38cd9d6-0c00-4629-96de-cad346b23ed0",
   "metadata": {},
   "outputs": [
    {
     "name": "stdout",
     "output_type": "stream",
     "text": [
      "Pickup_Location\n",
      "Khandsa             949\n",
      "Barakhamba Road     946\n",
      "Saket               931\n",
      "Badarpur            921\n",
      "Pragati Maidan      920\n",
      "                   ... \n",
      "Mandi House         800\n",
      "Noida Sector 18     799\n",
      "Laxmi Nagar         797\n",
      "Ashok Vihar         796\n",
      "Ghitorni Village    790\n",
      "Name: count, Length: 176, dtype: int64\n"
     ]
    }
   ],
   "source": [
    "counts = df['Pickup_Location'].value_counts()\n",
    "print(counts)"
   ]
  },
  {
   "cell_type": "code",
   "execution_count": 256,
   "id": "d5448f2e-4af8-4704-a3e8-3bdc8c66d74a",
   "metadata": {},
   "outputs": [
    {
     "name": "stdout",
     "output_type": "stream",
     "text": [
      "Vehicle_Type\n",
      "Auto             37419\n",
      "Go Mini          29806\n",
      "Go Sedan         27141\n",
      "Bike             22517\n",
      "Premier Sedan    18111\n",
      "eBike            10557\n",
      "Uber XL           4449\n",
      "Name: count, dtype: int64\n"
     ]
    }
   ],
   "source": [
    "counts = df['Vehicle_Type'].value_counts()\n",
    "print(counts)"
   ]
  },
  {
   "cell_type": "code",
   "execution_count": 264,
   "id": "d3767937-85da-451a-a6b7-e76da0a2daed",
   "metadata": {},
   "outputs": [],
   "source": [
    "\n",
    "for col in df.columns:\n",
    "    df[col] = df[col].apply(lambda x: x.strip() if isinstance(x, str) else x)\n"
   ]
  },
  {
   "cell_type": "code",
   "execution_count": 266,
   "id": "59263a79-4c1b-47e6-918e-5ce7b301eb9d",
   "metadata": {},
   "outputs": [
    {
     "name": "stdout",
     "output_type": "stream",
     "text": [
      "         Date      Time    Booking_ID   Booking_Status   Customer_ID  \\\n",
      "0  2024-03-23  12:29:38  \"CNR5884300\"  No Driver Found  \"CID1982111\"   \n",
      "1  2024-11-29  18:01:39  \"CNR1326809\"       Incomplete  \"CID4604802\"   \n",
      "2  2024-08-23  08:56:10  \"CNR8494506\"        Completed  \"CID9202816\"   \n",
      "3  2024-10-21  17:17:25  \"CNR8906825\"        Completed  \"CID2610914\"   \n",
      "4  2024-09-16  22:08:00  \"CNR1950162\"        Completed  \"CID9933542\"   \n",
      "5  2024-02-06  09:44:56  \"CNR4096693\"        Completed  \"CID4670564\"   \n",
      "6  2024-06-17  15:45:58  \"CNR2002539\"        Completed  \"CID6800553\"   \n",
      "7  2024-03-19  17:37:37  \"CNR6568000\"        Completed  \"CID8610436\"   \n",
      "8  2024-09-14  12:49:09  \"CNR4510807\"  No Driver Found  \"CID7873618\"   \n",
      "9  2024-12-16  19:06:48  \"CNR7721892\"       Incomplete  \"CID5214275\"   \n",
      "\n",
      "    Vehicle_Type      Pickup_Location      Drop_Location  Avg_VTAT  Avg_CTAT  \\\n",
      "0          eBike          Palam Vihar            Jhilmil       NaN       NaN   \n",
      "1       Go Sedan        Shastri Nagar  Gurgaon Sector 56      14.0      14.0   \n",
      "2           Auto              Khandsa      Malviya Nagar      25.8      25.8   \n",
      "3  Premier Sedan  Central Secretariat           Inderlok      28.5      28.5   \n",
      "4           Bike     Ghitorni Village        Khan Market      19.6      19.6   \n",
      "5           Auto                AIIMS        Narsinghpur      18.1      18.1   \n",
      "6        Go Mini             Vaishali       Punjabi Bagh      20.4      20.4   \n",
      "7           Auto          Mayur Vihar          Cyber Hub      16.5      16.5   \n",
      "8       Go Sedan      Noida Sector 62    Noida Sector 18       NaN       NaN   \n",
      "9           Auto               Rohini       Adarsh Nagar      26.0      26.0   \n",
      "\n",
      "   ... Reason_for_cancelling_by_Customer Cancelled_Rides_by_Driver  \\\n",
      "0  ...                            Others                     False   \n",
      "1  ...                            Others                     False   \n",
      "2  ...                            Others                     False   \n",
      "3  ...                            Others                     False   \n",
      "4  ...                            Others                     False   \n",
      "5  ...                            Others                     False   \n",
      "6  ...                            Others                     False   \n",
      "7  ...                            Others                     False   \n",
      "8  ...                            Others                     False   \n",
      "9  ...                            Others                     False   \n",
      "\n",
      "  Driver_Cancellation_Reason Incomplete_Rides Incomplete_Rides_Reason  \\\n",
      "0                  No Reason            False               No Reason   \n",
      "1                  No Reason             True       Vehicle Breakdown   \n",
      "2                  No Reason            False               No Reason   \n",
      "3                  No Reason            False               No Reason   \n",
      "4                  No Reason            False               No Reason   \n",
      "5                  No Reason            False               No Reason   \n",
      "6                  No Reason            False               No Reason   \n",
      "7                  No Reason            False               No Reason   \n",
      "8                  No Reason            False               No Reason   \n",
      "9                  No Reason             True             Other Issue   \n",
      "\n",
      "  Booking_Value Ride_Distance Driver_Ratings Customer_Rating Payment_Method  \n",
      "0            No            No             No              No            UPI  \n",
      "1           237          5.73             No              No            UPI  \n",
      "2           627         13.58            4.9             4.9     Debit Card  \n",
      "3           416         34.02            4.6               5            UPI  \n",
      "4           737         48.21            4.1             4.3            UPI  \n",
      "5           316          4.85            4.1             4.6            UPI  \n",
      "6           640         41.24              4             4.1            UPI  \n",
      "7           136          6.56            4.4             4.2            UPI  \n",
      "8            No            No             No              No        Unknown  \n",
      "9           135         10.36             No              No           Cash  \n",
      "\n",
      "[10 rows x 21 columns]\n"
     ]
    }
   ],
   "source": [
    "print(df.head(10))  # pehli 10 rows\n"
   ]
  },
  {
   "cell_type": "code",
   "execution_count": 268,
   "id": "d3014984-aa47-4f76-93da-f9b7e3504172",
   "metadata": {},
   "outputs": [],
   "source": [
    "df.to_excel(\"uber_Excel_cleaned.xlsx\", index=False)\n"
   ]
  },
  {
   "cell_type": "code",
   "execution_count": null,
   "id": "4f44faf6-382f-49a5-8708-804b9a02bec2",
   "metadata": {},
   "outputs": [],
   "source": []
  }
 ],
 "metadata": {
  "kernelspec": {
   "display_name": "Python [conda env:base] *",
   "language": "python",
   "name": "conda-base-py"
  },
  "language_info": {
   "codemirror_mode": {
    "name": "ipython",
    "version": 3
   },
   "file_extension": ".py",
   "mimetype": "text/x-python",
   "name": "python",
   "nbconvert_exporter": "python",
   "pygments_lexer": "ipython3",
   "version": "3.12.7"
  }
 },
 "nbformat": 4,
 "nbformat_minor": 5
}
